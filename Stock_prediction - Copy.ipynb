{
 "cells": [
  {
   "cell_type": "code",
   "execution_count": 1,
   "id": "3ef820ce",
   "metadata": {},
   "outputs": [],
   "source": [
    "import re\n",
    "import pandas as pd\n",
    "import tweepy\n",
    "import matplotlib.pyplot as plt\n",
    "from textblob import TextBlob\n",
    "from wordcloud import WordCloud\n",
    "import seaborn as sns\n",
    "from twitter import *\n",
    "import datetime as dt\n",
    "from sklearn.model_selection import train_test_split\n",
    "import numpy as np\n",
    "import math"
   ]
  },
  {
   "cell_type": "code",
   "execution_count": 2,
   "id": "03b38bac",
   "metadata": {},
   "outputs": [],
   "source": [
    "Api_key=\"QZYe3GAlzWqEzYjIuiN1OtRe9\"\n",
    "Api_key_secret=\"YGPCyr3UqpPj40x95jOodIhznMG0Cfcd1QqNZkVhzk6Ky1zSqJ\"\n",
    "Access_token=\"1580136275520077824-5xSTXadQKZimpwZoOmfPDTqbQ0KUdo\"\n",
    "Access_token_secret=\"wvpz7BbSfbc6nKzvuQK7QnTSfOhhGsAegbanUKnTl7Cda\"\n",
    "bearer=\"AAAAAAAAAAAAAAAAAAAAAGxaiAEAAAAAgqcYZlWC2mtlN8i66YIr4HC45Us%3Dm67zVu844eq6NAynB7H2goM9ZQyfSLUFjLOwbDylOhNPYFVgzW\""
   ]
  },
  {
   "cell_type": "code",
   "execution_count": 3,
   "id": "b3e399c6",
   "metadata": {},
   "outputs": [],
   "source": [
    "authenticate=tweepy.OAuthHandler(Api_key,Api_key_secret)\n",
    "authenticate.set_access_token(Access_token,Access_token_secret)\n",
    "\n",
    "api = tweepy.API(authenticate, wait_on_rate_limit=True,timeout=60,retry_delay=60)\n",
    "#     wait_on_rate_limit_notify=True)"
   ]
  },
  {
   "cell_type": "code",
   "execution_count": 4,
   "id": "0b63899b",
   "metadata": {},
   "outputs": [],
   "source": [
    "#\"Elon Musk\",\"AAPL\",\"MSFT\",\"GOOGL\",\"google\",\"GOOGLE\",\"amazon\",\"AMZN\",\"AMZON\""
   ]
  },
  {
   "cell_type": "code",
   "execution_count": 5,
   "id": "f2323c01",
   "metadata": {},
   "outputs": [],
   "source": [
    "#tweets= api.search_tweets(q=[\"TSLA\",\"tsla\",\"Tesla\"],lang=\"en\",tweet_mode='extended',count=10000,since_id=\"2022-1-1\")\n"
   ]
  },
  {
   "cell_type": "code",
   "execution_count": 6,
   "id": "d1889d9d",
   "metadata": {},
   "outputs": [],
   "source": [
    "tweets=tweepy.Cursor(api.search_tweets, q=[\"TSLA\",\"TESLA\",\"tesla\"],count=100,lang =\"en\",tweet_mode=\"extended\",until=\"2023-3-3\",result_type=\"recent\",include_entities=True).items(4000)\n",
    "#tweets2=tweepy.Cursor(api.search_tweets, q=[\"TSLA\",\"TESLA\",\"tesla\"],count=100,lang =\"en\",until=dt.datetime(2022,10,),tweet_mode=\"extended\").items(3000)\n",
    "\n",
    "\n",
    "\n",
    "\n",
    "# tweets2=tweepy.Cursor(api.search_tweets, q=[\"TSLA\",\"TESLA\",\"tesla\"],count=100,lang =\"en\",since_id=\"2022-10-04\",until=\"2022:10:07\",tweet_mode=\"extended\").items(500)\n",
    "# for i in tweets1:\n",
    "#     print(i)\n",
    "#tweets3=tweepy.Cursor(api.search_tweets, q=[\"TSLA\"],count=50,lang =\"en\",since_id=\"2022-10-9\",until=\"2022-10-11\",tweet_mode=\"extended\").items(500"
   ]
  },
  {
   "cell_type": "code",
   "execution_count": 7,
   "id": "f01feb30",
   "metadata": {
    "scrolled": true
   },
   "outputs": [],
   "source": [
    "df1=pd.DataFrame([[tweet.created_at.date(),tweet.full_text] for tweet in tweets],columns=['Date','Tweets'])\n"
   ]
  },
  {
   "cell_type": "code",
   "execution_count": 8,
   "id": "c959f69b",
   "metadata": {},
   "outputs": [],
   "source": [
    "tweets=tweepy.Cursor(api.search_tweets, q=[\"TSLA\",\"TESLA\",\"tesla\"],count=100,lang =\"en\",tweet_mode=\"extended\",until=\"2023-3-1\",result_type=\"recent\",include_entities=True).items(4000)\n",
    "df2=pd.DataFrame([[tweet.created_at.date(),tweet.full_text] for tweet in tweets],columns=['Date','Tweets'])\n"
   ]
  },
  {
   "cell_type": "code",
   "execution_count": null,
   "id": "36f9b815",
   "metadata": {},
   "outputs": [],
   "source": [
    "tweets=tweepy.Cursor(api.search_tweets, q=[\"TSLA\",\"TESLA\",\"tesla\"],count=100,lang =\"en\",tweet_mode=\"extended\",until=\"2023-1-21\",result_type=\"recent\",include_entities=True).items(4000)\n",
    "df3=pd.DataFrame([[tweet.created_at.date(),tweet.full_text] for tweet in tweets],columns=['Date','Tweets'])\n"
   ]
  },
  {
   "cell_type": "code",
   "execution_count": null,
   "id": "1b9d512f",
   "metadata": {},
   "outputs": [],
   "source": [
    "tweets=tweepy.Cursor(api.search_tweets, q=[\"TSLA\",\"TESLA\",\"tesla\"],count=100,lang =\"en\",tweet_mode=\"extended\",until=\"2023-1-20\",result_type=\"recent\",include_entities=True).items(4000)\n",
    "df4=pd.DataFrame([[tweet.created_at.date(),tweet.full_text] for tweet in tweets],columns=['Date','Tweets'])\n"
   ]
  },
  {
   "cell_type": "code",
   "execution_count": null,
   "id": "756c0ae8",
   "metadata": {},
   "outputs": [],
   "source": [
    "tweets=tweepy.Cursor(api.search_tweets, q=[\"TSLA\",\"TESLA\",\"tesla\"],count=100,lang =\"en\",tweet_mode=\"extended\",until=\"2023-1-19\",result_type=\"recent\",include_entities=True).items(4000)\n",
    "df5=pd.DataFrame([[tweet.created_at.date(),tweet.full_text] for tweet in tweets],columns=['Date','Tweets'])\n"
   ]
  },
  {
   "cell_type": "code",
   "execution_count": null,
   "id": "ac0b0a85",
   "metadata": {},
   "outputs": [],
   "source": [
    "df1.Date.value_counts(),df2.Date.value_counts(),df3.Date.value_counts(),df4.Date.value_counts(),df5.Date.value_counts()"
   ]
  },
  {
   "cell_type": "code",
   "execution_count": null,
   "id": "86202d24",
   "metadata": {},
   "outputs": [],
   "source": []
  },
  {
   "cell_type": "code",
   "execution_count": null,
   "id": "f1eee2b6",
   "metadata": {},
   "outputs": [],
   "source": []
  },
  {
   "cell_type": "code",
   "execution_count": 9,
   "id": "a453c591",
   "metadata": {},
   "outputs": [],
   "source": [
    "frames = [df1,df2]\n",
    "  \n",
    "df = pd.concat(frames)"
   ]
  },
  {
   "cell_type": "code",
   "execution_count": 10,
   "id": "3ef7c608",
   "metadata": {},
   "outputs": [
    {
     "data": {
      "text/html": [
       "<div>\n",
       "<style scoped>\n",
       "    .dataframe tbody tr th:only-of-type {\n",
       "        vertical-align: middle;\n",
       "    }\n",
       "\n",
       "    .dataframe tbody tr th {\n",
       "        vertical-align: top;\n",
       "    }\n",
       "\n",
       "    .dataframe thead th {\n",
       "        text-align: right;\n",
       "    }\n",
       "</style>\n",
       "<table border=\"1\" class=\"dataframe\">\n",
       "  <thead>\n",
       "    <tr style=\"text-align: right;\">\n",
       "      <th></th>\n",
       "      <th>Date</th>\n",
       "      <th>Tweets</th>\n",
       "    </tr>\n",
       "  </thead>\n",
       "  <tbody>\n",
       "    <tr>\n",
       "      <th>0</th>\n",
       "      <td>2023-03-02</td>\n",
       "      <td>RT @GerberKawasaki: I was there. They were qui...</td>\n",
       "    </tr>\n",
       "    <tr>\n",
       "      <th>1</th>\n",
       "      <td>2023-03-02</td>\n",
       "      <td>@teardowntitan @live_munro @Tesla Love the com...</td>\n",
       "    </tr>\n",
       "    <tr>\n",
       "      <th>2</th>\n",
       "      <td>2023-03-02</td>\n",
       "      <td>RT @talkingtesla: What happen after these @tes...</td>\n",
       "    </tr>\n",
       "    <tr>\n",
       "      <th>3</th>\n",
       "      <td>2023-03-02</td>\n",
       "      <td>RT @evannex_com: What was the big news from #T...</td>\n",
       "    </tr>\n",
       "    <tr>\n",
       "      <th>4</th>\n",
       "      <td>2023-03-02</td>\n",
       "      <td>@MartinViecha Something for Tesla's head of IR...</td>\n",
       "    </tr>\n",
       "    <tr>\n",
       "      <th>...</th>\n",
       "      <td>...</td>\n",
       "      <td>...</td>\n",
       "    </tr>\n",
       "    <tr>\n",
       "      <th>3995</th>\n",
       "      <td>2023-02-27</td>\n",
       "      <td>RT @Teslaconomics: What do you want to hear fr...</td>\n",
       "    </tr>\n",
       "    <tr>\n",
       "      <th>3996</th>\n",
       "      <td>2023-02-27</td>\n",
       "      <td>RT @itechnosmith: Canada Pension Plan (CPP) so...</td>\n",
       "    </tr>\n",
       "    <tr>\n",
       "      <th>3997</th>\n",
       "      <td>2023-02-27</td>\n",
       "      <td>Stocks making the biggest moves midday: Union ...</td>\n",
       "    </tr>\n",
       "    <tr>\n",
       "      <th>3998</th>\n",
       "      <td>2023-02-27</td>\n",
       "      <td>RT @Teslaconomics: What does Tesla mean to you...</td>\n",
       "    </tr>\n",
       "    <tr>\n",
       "      <th>3999</th>\n",
       "      <td>2023-02-27</td>\n",
       "      <td>Sorry @themotleyfool but this analysis for why...</td>\n",
       "    </tr>\n",
       "  </tbody>\n",
       "</table>\n",
       "<p>8000 rows × 2 columns</p>\n",
       "</div>"
      ],
      "text/plain": [
       "            Date                                             Tweets\n",
       "0     2023-03-02  RT @GerberKawasaki: I was there. They were qui...\n",
       "1     2023-03-02  @teardowntitan @live_munro @Tesla Love the com...\n",
       "2     2023-03-02  RT @talkingtesla: What happen after these @tes...\n",
       "3     2023-03-02  RT @evannex_com: What was the big news from #T...\n",
       "4     2023-03-02  @MartinViecha Something for Tesla's head of IR...\n",
       "...          ...                                                ...\n",
       "3995  2023-02-27  RT @Teslaconomics: What do you want to hear fr...\n",
       "3996  2023-02-27  RT @itechnosmith: Canada Pension Plan (CPP) so...\n",
       "3997  2023-02-27  Stocks making the biggest moves midday: Union ...\n",
       "3998  2023-02-27  RT @Teslaconomics: What does Tesla mean to you...\n",
       "3999  2023-02-27  Sorry @themotleyfool but this analysis for why...\n",
       "\n",
       "[8000 rows x 2 columns]"
      ]
     },
     "metadata": {},
     "output_type": "display_data"
    },
    {
     "data": {
      "text/plain": [
       "<bound method Series.unique of 0       2023-03-02\n",
       "1       2023-03-02\n",
       "2       2023-03-02\n",
       "3       2023-03-02\n",
       "4       2023-03-02\n",
       "           ...    \n",
       "3995    2023-02-27\n",
       "3996    2023-02-27\n",
       "3997    2023-02-27\n",
       "3998    2023-02-27\n",
       "3999    2023-02-27\n",
       "Name: Date, Length: 8000, dtype: object>"
      ]
     },
     "execution_count": 10,
     "metadata": {},
     "output_type": "execute_result"
    }
   ],
   "source": [
    "# frames = [df, df2]\n",
    "  \n",
    "# df = pd.concat(frames)\n",
    "display(df)\n",
    "df.Date.unique"
   ]
  },
  {
   "cell_type": "code",
   "execution_count": null,
   "id": "0135ff1f",
   "metadata": {},
   "outputs": [],
   "source": [
    "# df=df.set_index(df.Date)"
   ]
  },
  {
   "cell_type": "code",
   "execution_count": null,
   "id": "0781af52",
   "metadata": {},
   "outputs": [],
   "source": [
    "df"
   ]
  },
  {
   "cell_type": "code",
   "execution_count": null,
   "id": "486d5e1a",
   "metadata": {},
   "outputs": [],
   "source": [
    "df.sort_index(inplace=True)"
   ]
  },
  {
   "cell_type": "code",
   "execution_count": null,
   "id": "12326b6f",
   "metadata": {},
   "outputs": [],
   "source": [
    "#clean\n",
    "def cleanText(text):\n",
    "   # text=re.sub(r'#','',text)\n",
    "    text=re.sub(r'_','',text)\n",
    "    text=re.sub(r':','',text)\n",
    "    text=re.sub(r'_','',text)\n",
    "    text=re.sub(r'\\n','',text)\n",
    "    text=re.sub(r'RT[\\s]+','',text)\n",
    "    text=re.sub(r'https?:\\/\\/\\S+','',text)\n",
    "    text=re.sub(r'https\\/\\/\\S+ ','',text)\n",
    "    text=re.sub(r'@[A-Za-z0-9]+','',text)\n",
    "    return text\n",
    "df['Tweets']=df['Tweets'].apply(cleanText)\n"
   ]
  },
  {
   "cell_type": "code",
   "execution_count": null,
   "id": "a4bb38b3",
   "metadata": {},
   "outputs": [],
   "source": [
    "df.index.dtype"
   ]
  },
  {
   "cell_type": "code",
   "execution_count": null,
   "id": "45fe8d67",
   "metadata": {},
   "outputs": [],
   "source": [
    "indx=1\n",
    "get_tweet=\"\"\n",
    "for i in range(1,len(df)):\n",
    "    get_date=df.index[i]\n",
    "    next_date=df.index[i+1]\n",
    "   \n",
    "    if(str(get_date)==str(next_date)):\n",
    "        get_tweet=get_tweet+df.Tweets.iloc[i]+\" \"\n",
    "    if(str(get_date)!=str(next_date)):\n",
    "        df.at[indx,'Date']=get_date\n",
    "        df.at[indx,'Tweets']=get_tweet\n",
    "        #ccdata.set_value(indx,'Tweets',get_tweet)\n",
    "        indx=indx+1\n",
    "        get_tweet=\" \"\n",
    "        "
   ]
  },
  {
   "cell_type": "code",
   "execution_count": null,
   "id": "47853b6c",
   "metadata": {},
   "outputs": [],
   "source": [
    "df.tail(10)\n"
   ]
  },
  {
   "cell_type": "code",
   "execution_count": null,
   "id": "bec8c365",
   "metadata": {},
   "outputs": [],
   "source": [
    "df.Date.value_counts()"
   ]
  },
  {
   "cell_type": "code",
   "execution_count": null,
   "id": "7065b852",
   "metadata": {},
   "outputs": [],
   "source": [
    "data=df.tail(len(df.Date.unique()))\n",
    "data"
   ]
  },
  {
   "cell_type": "code",
   "execution_count": null,
   "id": "4f5b3a6f",
   "metadata": {},
   "outputs": [],
   "source": [
    "df.index.dtype"
   ]
  },
  {
   "cell_type": "code",
   "execution_count": null,
   "id": "4a81f37e",
   "metadata": {},
   "outputs": [],
   "source": [
    "df.info()"
   ]
  },
  {
   "cell_type": "code",
   "execution_count": 12,
   "id": "c9e81d37",
   "metadata": {},
   "outputs": [],
   "source": [
    "import pickle\n",
    "\n",
    "\n",
    "filename=\"MIDS2data\"\n",
    "with open(filename, 'wb') as fp:\n",
    "    pickle.dump(df,fp)\n"
   ]
  },
  {
   "cell_type": "markdown",
   "id": "ad252af3",
   "metadata": {},
   "source": [
    "TEXTBLOB"
   ]
  },
  {
   "cell_type": "code",
   "execution_count": 11,
   "id": "415fbddd",
   "metadata": {},
   "outputs": [
    {
     "data": {
      "text/html": [
       "<div>\n",
       "<style scoped>\n",
       "    .dataframe tbody tr th:only-of-type {\n",
       "        vertical-align: middle;\n",
       "    }\n",
       "\n",
       "    .dataframe tbody tr th {\n",
       "        vertical-align: top;\n",
       "    }\n",
       "\n",
       "    .dataframe thead th {\n",
       "        text-align: right;\n",
       "    }\n",
       "</style>\n",
       "<table border=\"1\" class=\"dataframe\">\n",
       "  <thead>\n",
       "    <tr style=\"text-align: right;\">\n",
       "      <th></th>\n",
       "      <th>Date</th>\n",
       "      <th>Tweets</th>\n",
       "    </tr>\n",
       "  </thead>\n",
       "  <tbody>\n",
       "    <tr>\n",
       "      <th>0</th>\n",
       "      <td>2023-03-02</td>\n",
       "      <td>RT @GerberKawasaki: I was there. They were qui...</td>\n",
       "    </tr>\n",
       "    <tr>\n",
       "      <th>1</th>\n",
       "      <td>2023-03-02</td>\n",
       "      <td>@teardowntitan @live_munro @Tesla Love the com...</td>\n",
       "    </tr>\n",
       "    <tr>\n",
       "      <th>2</th>\n",
       "      <td>2023-03-02</td>\n",
       "      <td>RT @talkingtesla: What happen after these @tes...</td>\n",
       "    </tr>\n",
       "    <tr>\n",
       "      <th>3</th>\n",
       "      <td>2023-03-02</td>\n",
       "      <td>RT @evannex_com: What was the big news from #T...</td>\n",
       "    </tr>\n",
       "    <tr>\n",
       "      <th>4</th>\n",
       "      <td>2023-03-02</td>\n",
       "      <td>@MartinViecha Something for Tesla's head of IR...</td>\n",
       "    </tr>\n",
       "    <tr>\n",
       "      <th>...</th>\n",
       "      <td>...</td>\n",
       "      <td>...</td>\n",
       "    </tr>\n",
       "    <tr>\n",
       "      <th>3995</th>\n",
       "      <td>2023-02-27</td>\n",
       "      <td>RT @Teslaconomics: What do you want to hear fr...</td>\n",
       "    </tr>\n",
       "    <tr>\n",
       "      <th>3996</th>\n",
       "      <td>2023-02-27</td>\n",
       "      <td>RT @itechnosmith: Canada Pension Plan (CPP) so...</td>\n",
       "    </tr>\n",
       "    <tr>\n",
       "      <th>3997</th>\n",
       "      <td>2023-02-27</td>\n",
       "      <td>Stocks making the biggest moves midday: Union ...</td>\n",
       "    </tr>\n",
       "    <tr>\n",
       "      <th>3998</th>\n",
       "      <td>2023-02-27</td>\n",
       "      <td>RT @Teslaconomics: What does Tesla mean to you...</td>\n",
       "    </tr>\n",
       "    <tr>\n",
       "      <th>3999</th>\n",
       "      <td>2023-02-27</td>\n",
       "      <td>Sorry @themotleyfool but this analysis for why...</td>\n",
       "    </tr>\n",
       "  </tbody>\n",
       "</table>\n",
       "<p>8000 rows × 2 columns</p>\n",
       "</div>"
      ],
      "text/plain": [
       "            Date                                             Tweets\n",
       "0     2023-03-02  RT @GerberKawasaki: I was there. They were qui...\n",
       "1     2023-03-02  @teardowntitan @live_munro @Tesla Love the com...\n",
       "2     2023-03-02  RT @talkingtesla: What happen after these @tes...\n",
       "3     2023-03-02  RT @evannex_com: What was the big news from #T...\n",
       "4     2023-03-02  @MartinViecha Something for Tesla's head of IR...\n",
       "...          ...                                                ...\n",
       "3995  2023-02-27  RT @Teslaconomics: What do you want to hear fr...\n",
       "3996  2023-02-27  RT @itechnosmith: Canada Pension Plan (CPP) so...\n",
       "3997  2023-02-27  Stocks making the biggest moves midday: Union ...\n",
       "3998  2023-02-27  RT @Teslaconomics: What does Tesla mean to you...\n",
       "3999  2023-02-27  Sorry @themotleyfool but this analysis for why...\n",
       "\n",
       "[8000 rows x 2 columns]"
      ]
     },
     "execution_count": 11,
     "metadata": {},
     "output_type": "execute_result"
    }
   ],
   "source": [
    "df"
   ]
  },
  {
   "cell_type": "code",
   "execution_count": null,
   "id": "86345f0f",
   "metadata": {},
   "outputs": [],
   "source": []
  },
  {
   "cell_type": "code",
   "execution_count": null,
   "id": "c7923de2",
   "metadata": {},
   "outputs": [],
   "source": [
    "polarity = lambda x: TextBlob(x).sentiment.polarity\n",
    "subjecticity = lambda x: TextBlob(x).sentiment.subjectivity\n",
    "def analysis(score):\n",
    "            if score < 0:\n",
    "                return 'Negative'\n",
    "            elif score == 0:\n",
    "                return 'Neutral'\n",
    "            else:\n",
    "                return 'Positive'\n",
    "data['Polarity'] = data['Tweets'].apply(polarity)\n",
    "data['Subjectivity'] = data['Tweets'].apply(subjecticity)\n",
    "data['Analysis'] = data['Polarity'].apply(analysis)\n",
    "\n",
    "\n",
    "df['Polarity'] = df['Tweets'].apply(polarity)\n",
    "df['Subjectivity'] = df['Tweets'].apply(subjecticity)\n",
    "df['Analysis'] = df['Polarity'].apply(analysis)\n"
   ]
  },
  {
   "cell_type": "code",
   "execution_count": null,
   "id": "3e2e7505",
   "metadata": {},
   "outputs": [],
   "source": [
    "allwords=''.join([twts for twts in df['Tweets']])\n",
    "wordCloud=WordCloud(width=500,height=300,random_state=21,max_font_size=100).generate(allwords)\n",
    "plt.imshow(wordCloud,interpolation=\"bilinear\")\n",
    "plt.axis('off')\n",
    "plt.show()"
   ]
  },
  {
   "cell_type": "code",
   "execution_count": null,
   "id": "5b6f7a58",
   "metadata": {},
   "outputs": [],
   "source": []
  },
  {
   "cell_type": "code",
   "execution_count": null,
   "id": "c0066abf",
   "metadata": {},
   "outputs": [],
   "source": [
    "plt.figure(figsize=(15,9))\n",
    "for i in range(0,df.shape[0]):\n",
    "    plt.scatter(df[\"Polarity\"],df[\"Subjectivity\"],color='red')\n",
    "plt.title(\"Sentiment Analysis\")\n",
    "plt.xlabel(\"Polarity\")\n",
    "plt.ylabel(\"Subjectivity\")"
   ]
  },
  {
   "cell_type": "code",
   "execution_count": null,
   "id": "e1e97ca1",
   "metadata": {},
   "outputs": [],
   "source": [
    "df.shape"
   ]
  },
  {
   "cell_type": "code",
   "execution_count": null,
   "id": "d6218b0e",
   "metadata": {},
   "outputs": [],
   "source": [
    "ptweets=df[df.Analysis=='Positive']\n",
    "ptweets=ptweets['Tweets']\n",
    "round((ptweets.shape[0]/df.shape[0])*100,1)"
   ]
  },
  {
   "cell_type": "code",
   "execution_count": null,
   "id": "cd214eff",
   "metadata": {},
   "outputs": [],
   "source": [
    "ntweets=df[df.Analysis=='Negative']\n",
    "ntweets=ntweets['Tweets']\n",
    "round((ntweets.shape[0]/df.shape[0])*100,1)"
   ]
  },
  {
   "cell_type": "code",
   "execution_count": null,
   "id": "91e49bd7",
   "metadata": {},
   "outputs": [],
   "source": [
    "nutweets=df[df.Analysis=='Neutral']\n",
    "nutweets=nutweets['Tweets']\n",
    "round((nutweets.shape[0]/df.shape[0])*100,1)"
   ]
  },
  {
   "cell_type": "code",
   "execution_count": null,
   "id": "77a5ee55",
   "metadata": {},
   "outputs": [],
   "source": [
    "\n",
    "plt.title(\"Sentiment Analysis\")\n",
    "plt.xlabel(\"Sentiment\")\n",
    "plt.ylabel(\"Counts\")\n",
    "df['Analysis'].value_counts().plot(kind='bar')\n",
    "plt.show()"
   ]
  },
  {
   "cell_type": "markdown",
   "id": "f8ea045c",
   "metadata": {},
   "source": [
    "VADER"
   ]
  },
  {
   "cell_type": "code",
   "execution_count": null,
   "id": "b03c182c",
   "metadata": {},
   "outputs": [],
   "source": [
    "from vaderSentiment.vaderSentiment import SentimentIntensityAnalyzer"
   ]
  },
  {
   "cell_type": "code",
   "execution_count": null,
   "id": "2ea646f4",
   "metadata": {},
   "outputs": [],
   "source": [
    "df"
   ]
  },
  {
   "cell_type": "code",
   "execution_count": null,
   "id": "ba8bf7d8",
   "metadata": {},
   "outputs": [],
   "source": [
    "# analyzer = SentimentIntensityAnalyzer()\n",
    "# df['compound'] = [analyzer.polarity_scores(x)['compound'] for x in df['Tweets']]\n",
    "# df['neg'] = [analyzer.polarity_scores(x)['neg'] for x in df['Tweets']]\n",
    "# df['neu'] = [analyzer.polarity_scores(x)['neu'] for x in df['Tweets']]\n",
    "# df['pos'] = [analyzer.polarity_scores(x)['pos'] for x in df['Tweets']]"
   ]
  },
  {
   "cell_type": "code",
   "execution_count": null,
   "id": "58def45c",
   "metadata": {},
   "outputs": [],
   "source": [
    "import nltk\n",
    "nltk.download('vader_lexicon')\n",
    "data[\"Comp\"] = ''\n",
    "data[\"Negative\"] = ''\n",
    "data[\"Neutral\"] = ''\n",
    "data[\"Positive\"] = ''"
   ]
  },
  {
   "cell_type": "code",
   "execution_count": null,
   "id": "7041b08e",
   "metadata": {},
   "outputs": [],
   "source": [
    "data.index=data.index.astype(str)\n",
    "from nltk.sentiment.vader import SentimentIntensityAnalyzer\n",
    "\n",
    "\n",
    "import unicodedata\n",
    "sentiment_i_a = SentimentIntensityAnalyzer()\n",
    "for indexx, row in data.T.iteritems():\n",
    "\n",
    "        sentence_i = unicodedata.normalize('NFKD', data.loc[indexx, 'Tweets'])\n",
    "        sentence_sentiment = sentiment_i_a.polarity_scores(sentence_i)\n",
    "        data['Comp'].loc[indexx] = sentence_sentiment['compound']\n",
    "        data['Negative'].loc[indexx] = sentence_sentiment['neg']\n",
    "        data['Neutral'].loc[indexx] = sentence_sentiment['neu']\n",
    "        data['Positive'].loc[indexx] = sentence_sentiment['compound']\n"
   ]
  },
  {
   "cell_type": "code",
   "execution_count": null,
   "id": "f5fb7711",
   "metadata": {},
   "outputs": [],
   "source": [
    "\n"
   ]
  },
  {
   "cell_type": "code",
   "execution_count": null,
   "id": "979e3d19",
   "metadata": {},
   "outputs": [],
   "source": [
    "data"
   ]
  },
  {
   "cell_type": "code",
   "execution_count": null,
   "id": "5d136d05",
   "metadata": {},
   "outputs": [],
   "source": [
    "df.shape"
   ]
  },
  {
   "cell_type": "code",
   "execution_count": null,
   "id": "3863cd33",
   "metadata": {},
   "outputs": [],
   "source": [
    "\n",
    "# plt.title(\"Sentiment Analysis\")\n",
    "# plt.xlabel(\"Sentiment\")\n",
    "# plt.ylabel(\"Counts\")\n",
    "# data['Vader sentiments'].value_counts().plot(kind='bar')\n",
    "# plt.show()"
   ]
  },
  {
   "cell_type": "markdown",
   "id": "5ba23373",
   "metadata": {},
   "source": [
    "# Yfinance "
   ]
  },
  {
   "cell_type": "code",
   "execution_count": null,
   "id": "f567908f",
   "metadata": {},
   "outputs": [],
   "source": []
  },
  {
   "cell_type": "code",
   "execution_count": null,
   "id": "e39c04d5",
   "metadata": {},
   "outputs": [],
   "source": [
    "import datetime as dt\n",
    "from pandas_datareader import data as pdr"
   ]
  },
  {
   "cell_type": "code",
   "execution_count": null,
   "id": "1a5beaa0",
   "metadata": {},
   "outputs": [],
   "source": [
    "end=dt.datetime.now()\n",
    "start=dt.datetime(2022,11,17)\n",
    "var=end.date()\n",
    "var"
   ]
  },
  {
   "cell_type": "code",
   "execution_count": null,
   "id": "ba2331cd",
   "metadata": {},
   "outputs": [],
   "source": [
    "stocks=['TSLA','MSFT','COKE','AMZN']\n"
   ]
  },
  {
   "cell_type": "code",
   "execution_count": null,
   "id": "e38334cc",
   "metadata": {},
   "outputs": [],
   "source": []
  },
  {
   "cell_type": "code",
   "execution_count": null,
   "id": "0b9b8dbf",
   "metadata": {},
   "outputs": [],
   "source": [
    "price=pdr.get_data_yahoo(stocks,start,end)\n",
    "price"
   ]
  },
  {
   "cell_type": "code",
   "execution_count": null,
   "id": "d84ce354",
   "metadata": {},
   "outputs": [],
   "source": [
    "price=price.reset_index()\n",
    "price.index=price.index+1"
   ]
  },
  {
   "cell_type": "code",
   "execution_count": null,
   "id": "9fd0a5da",
   "metadata": {},
   "outputs": [],
   "source": [
    "price.sort_index(ascending=False,inplace=True,axis=1)\n",
    "price.head(4)"
   ]
  },
  {
   "cell_type": "code",
   "execution_count": null,
   "id": "22beeee9",
   "metadata": {},
   "outputs": [],
   "source": [
    "get_stock_date=[]\n",
    "get_tweet_date=[]\n",
    "\n",
    "\n",
    "for j in range (0,len(price)):\n",
    "    m=price.Date.iloc[j].strftime(\"%m/%d/%Y\")\n",
    "    get_stock_date.append(m)\n",
    "for j in range (0,len(data)):\n",
    "    m=data.Date.iloc[j].strftime(\"%m/%d/%Y\")\n",
    "    get_tweet_date.append(m)\n",
    "\n",
    "# price_list=price.Close.TSLA\n",
    "\n",
    "\n",
    "print(get_tweet_date,\"\\n\",get_stock_date,\"\\n\")"
   ]
  },
  {
   "cell_type": "code",
   "execution_count": null,
   "id": "466af566",
   "metadata": {},
   "outputs": [],
   "source": [
    "max(len(price),len(data))\n"
   ]
  },
  {
   "cell_type": "code",
   "execution_count": null,
   "id": "762394b2",
   "metadata": {},
   "outputs": [],
   "source": [
    "price"
   ]
  },
  {
   "cell_type": "code",
   "execution_count": null,
   "id": "1193c260",
   "metadata": {},
   "outputs": [],
   "source": []
  },
  {
   "cell_type": "code",
   "execution_count": null,
   "id": "b9578665",
   "metadata": {},
   "outputs": [],
   "source": [
    "price"
   ]
  },
  {
   "cell_type": "code",
   "execution_count": null,
   "id": "0e658f5e",
   "metadata": {},
   "outputs": [],
   "source": [
    "\n",
    "data['Prices']=\"\"\n",
    "n=min(len(price),len(data))\n",
    "for i in range(n):\n",
    "    for j in range(n):\n",
    "        print(i,\" \",get_tweet_date[i],\" \",get_stock_date[j],\" \")\n",
    "        if(get_tweet_date[i] == get_stock_date[j]):\n",
    "            print(\" \",get_tweet_date[i],\" \",get_stock_date[j],\" \")\n",
    "            data.at[i,'Prices']=\"\"\n",
    "            data['Prices'].iloc[i] = int(price.Close.loc[price.Date==get_stock_date[i],\"TSLA\"])\n",
    "            \n",
    "       \n",
    "        \n",
    "           "
   ]
  },
  {
   "cell_type": "code",
   "execution_count": null,
   "id": "98bfde27",
   "metadata": {},
   "outputs": [],
   "source": [
    "data.dropna(inplace=True)"
   ]
  },
  {
   "cell_type": "code",
   "execution_count": null,
   "id": "f9452bdc",
   "metadata": {},
   "outputs": [],
   "source": [
    "# data.drop(0,axis=0,inplace=True)"
   ]
  },
  {
   "cell_type": "code",
   "execution_count": null,
   "id": "c7c70623",
   "metadata": {},
   "outputs": [],
   "source": [
    "data"
   ]
  },
  {
   "cell_type": "code",
   "execution_count": null,
   "id": "53440ce2",
   "metadata": {},
   "outputs": [],
   "source": [
    "price.Close.TSLA,price.Date"
   ]
  },
  {
   "cell_type": "code",
   "execution_count": null,
   "id": "e79bb3e5",
   "metadata": {},
   "outputs": [],
   "source": [
    "# # data['Prices'].loc[1] = int(190.949997)\n",
    "# # data['Prices'].loc[2] = int(194.419998)\n",
    "# # data['Prices'].loc[3] = int(186.919998)\n",
    "# # data['Prices'].loc[4] = int(183.919998)\n",
    "# data['Prices'].loc[5] = int(180.919998)\n",
    "# data['Prices'].loc[6] = int(167.919998)\n",
    "# data['Prices'].loc[7] = int(168.919998)\n",
    "data.fillna(method='ffill',inplace=True)\n",
    "\n",
    "# data=data.drop(\"7\")"
   ]
  },
  {
   "cell_type": "code",
   "execution_count": null,
   "id": "5b5a724c",
   "metadata": {},
   "outputs": [],
   "source": [
    "\n",
    "# summ=0\n",
    "# count=0\n",
    "# for i in range(0,len(data)):\n",
    "   \n",
    "#     if(data.Prices.iloc[i]==\"\"):\n",
    "#         summ=summ+int(data.Prices.iloc[i])\n",
    "#         count=count+1\n",
    "# mean=summ/count\n",
    "# for i in range(0,len(data)):\n",
    "#         data.Prices.iloc[i]=int(mean)"
   ]
  },
  {
   "cell_type": "code",
   "execution_count": null,
   "id": "2780ec9d",
   "metadata": {},
   "outputs": [],
   "source": [
    "data"
   ]
  },
  {
   "cell_type": "code",
   "execution_count": null,
   "id": "50153c55",
   "metadata": {},
   "outputs": [],
   "source": [
    "close=price.Close\n",
    "close.head()\n"
   ]
  },
  {
   "cell_type": "code",
   "execution_count": null,
   "id": "0161a321",
   "metadata": {},
   "outputs": [],
   "source": [
    "sns.lineplot(data=price,x=price.Date,y=price.Close.TSLA)\n",
    "sns.set(rc={'figure.figsize':(17,10)})"
   ]
  },
  {
   "cell_type": "code",
   "execution_count": null,
   "id": "5b3c7bdc",
   "metadata": {},
   "outputs": [],
   "source": [
    "sns.lineplot(data=data,y=data.Polarity,x=data.Date)\n",
    "sns.set(rc={'figure.figsize':(10,10)})"
   ]
  },
  {
   "cell_type": "code",
   "execution_count": null,
   "id": "3f9a8a5e",
   "metadata": {},
   "outputs": [],
   "source": [
    "#Vader\n",
    "sns.lineplot(data=data,y=data[\"Vader compound\"],x=data.Date)\n",
    "sns.set(rc={'figure.figsize':(10,10)})"
   ]
  },
  {
   "cell_type": "code",
   "execution_count": null,
   "id": "8ca2e099",
   "metadata": {},
   "outputs": [],
   "source": [
    "data"
   ]
  },
  {
   "cell_type": "code",
   "execution_count": null,
   "id": "52cc5891",
   "metadata": {},
   "outputs": [],
   "source": [
    "from sklearn.model_selection import train_test_split"
   ]
  },
  {
   "cell_type": "code",
   "execution_count": null,
   "id": "043db429",
   "metadata": {},
   "outputs": [],
   "source": [
    "ml=pd.read_csv(\"training.csv\")\n",
    "ml.drop(columns=[\"Date.1\"],inplace=True,axis=1)\n",
    "ml =ml.set_index(ml.Date)"
   ]
  },
  {
   "cell_type": "code",
   "execution_count": null,
   "id": "f031e4fc",
   "metadata": {},
   "outputs": [],
   "source": []
  },
  {
   "cell_type": "code",
   "execution_count": null,
   "id": "57dfb01c",
   "metadata": {},
   "outputs": [],
   "source": [
    "# train_x,test_x,train_y,test_y=train_test_split(ml.drop(\"adj close\",axis=1),ml[\"adj close\"])\n",
    "ml"
   ]
  },
  {
   "cell_type": "code",
   "execution_count": null,
   "id": "9a3907ab",
   "metadata": {},
   "outputs": [],
   "source": [
    "from treeinterpreter import treeinterpreter as tree_interpreter\n",
    "from sklearn.ensemble import RandomForestRegressor\n",
    "from sklearn.metrics import mean_squared_error\n",
    "years = [2007, 2008, 2009, 2010, 2011, 2012, 2013, 2014, 2015, 2016]\n",
    "prediction_list = []\n",
    "for year in years:\n",
    "    train_data_start = str(year) + '-01-01'\n",
    "    train_data_end = str(year) + '-08-31'\n",
    "    test_data_start = str(year) + '-09-01'\n",
    "    test_data_end = str(year) + '-12-31'\n",
    "    train = ml.loc[train_data_start : train_data_end]\n",
    "    test = ml.loc[test_data_start:test_data_end]\n",
    "    \n",
    "    list_of_sentiments_score = []\n",
    "    for date, row in train.T.iteritems():\n",
    "        sentiment_score = np.asarray([ml.loc[date, 'Comp'],ml.loc[date, 'Negative'],ml.loc[date, 'Neutral'],ml.loc[date, 'Positive']])\n",
    "        list_of_sentiments_score.append(sentiment_score)\n",
    "    numpy_dataframe_train = np.asarray(list_of_sentiments_score)\n",
    "    \n",
    "    list_of_sentiments_score = []\n",
    "    for date, row in test.T.iteritems():\n",
    "        sentiment_score = np.asarray([ml.loc[date, 'Comp'],ml.loc[date, 'Negative'],ml.loc[date, 'Neutral'],ml.loc[date, 'Positive']])\n",
    "        list_of_sentiments_score.append(sentiment_score)\n",
    "    numpy_dataframe_test = np.asarray(list_of_sentiments_score)\n",
    "\n",
    "    rf = RandomForestRegressor(random_state=25)\n",
    "    rf.fit(numpy_dataframe_train, train['adj close'])\n",
    "    \n",
    "    # prediction, bias, contributions = tree_interpreter.predict(rf, numpy_dataframe_test)\n",
    "    prediction = rf.predict(numpy_dataframe_test)\n",
    "    prediction_list.append(prediction)\n",
    "    #print(\"ACCURACY= \",rf.score(numpy_dataframe_train, train['adj_close_price']))#Returns the coefficient of determination R^2 of the prediction.\n",
    "    idx = pd.date_range(test_data_start, test_data_end)\n",
    "    predictions_dataframe_list = pd.DataFrame(data=prediction[0:], index = idx, columns=['adj close'])\n",
    "\n",
    "    #difference_test_predicted_prices = offset_value(test_data_start, test, predictions_dataframe_list)\n",
    "    predictions_dataframe_list['adj close'] = predictions_dataframe_list['adj close'] + 0\n",
    "    predictions_dataframe_list\n",
    "\n",
    "    predictions_dataframe_list['actual_value'] = test['adj close']\n",
    "    predictions_dataframe_list.columns = ['predicted_price','actual_price']\n",
    "   \n",
    "    \n",
    "    plt.figure(figsize=(15,9))\n",
    "    plt.plot(test['adj close'])\n",
    "    plt.plot(prediction.flatten())\n",
    "    plt.title('Random Forest predicted prices')\n",
    "    plt.ylabel('Stock Prices')\n",
    "    plt.xlabel('Date')\n",
    "    plt.legend(['actual', 'predicted'])\n",
    "    plt.show()\n",
    "    \n",
    "   \n",
    "    \n",
    "    break"
   ]
  },
  {
   "cell_type": "code",
   "execution_count": null,
   "id": "0e4ca2f2",
   "metadata": {},
   "outputs": [],
   "source": [
    "data.Prices=data.Prices.astype(float)"
   ]
  },
  {
   "cell_type": "code",
   "execution_count": null,
   "id": "2796922e",
   "metadata": {},
   "outputs": [],
   "source": [
    "    list_of_sentiments_score = []\n",
    "    for date, row in data.T.iteritems():\n",
    "        sentiment_score = np.asarray([data.loc[date, 'Comp'],data.loc[date, 'Negative'],data.loc[date, 'Neutral'],data.loc[date, 'Positive']])\n",
    "        list_of_sentiments_score.append(sentiment_score)\n",
    "    numpy_dataframe_test1 = np.asarray(list_of_sentiments_score)\n",
    "\n",
    "\n",
    "    \n",
    "    # prediction, bias, contributions = tree_interpreter.predict(rf, numpy_dataframe_test)\n",
    "    prediction = rf.predict(numpy_dataframe_test1)\n",
    "    prediction_list.append(prediction)\n",
    "    #print(\"ACCURACY= \",rf.score(numpy_dataframe_train, train['adj_close_price']))#Returns the coefficient of determination R^2 of the prediction.\n",
    "   \n",
    "    predictions_dataframe_list = pd.DataFrame(data=prediction[0:], columns=['Prices'])\n",
    "\n",
    "    #difference_test_predicted_prices = offset_value(test_data_start, test, predictions_dataframe_list)\n",
    "    predictions_dataframe_list['Prices'] = predictions_dataframe_list['Prices'] + 0\n",
    "    predictions_dataframe_list\n",
    "\n",
    "    predictions_dataframe_list['actual_value'] = data['Prices']\n",
    "    predictions_dataframe_list.columns = ['predicted_price','actual_price']\n",
    "   \n",
    "    \n",
    "    prediction = rf.predict(numpy_dataframe_test)\n",
    "    len(prediction)\n",
    "    plt.figure(figsize=(5,9))\n",
    "    plt.plot(data['Prices'])\n",
    "    plt.plot(prediction)\n",
    "    plt.title('Random Forest predicted prices')\n",
    "    plt.ylabel('Stock Prices')\n",
    "    plt.xlabel('Date')\n",
    "    plt.legend(['actual', 'predicted'])\n",
    "    plt.show()"
   ]
  },
  {
   "cell_type": "code",
   "execution_count": null,
   "id": "2964a83f",
   "metadata": {},
   "outputs": [],
   "source": [
    "from sklearn.metrics import precision_score\n",
    "from sklearn.metrics import precision_recall_curve\n"
   ]
  },
  {
   "cell_type": "code",
   "execution_count": null,
   "id": "29aec408",
   "metadata": {},
   "outputs": [],
   "source": [
    "# from sklearn.feature_extraction.text import CountVectorizer\n",
    "# # vectorizing the sentences\n",
    "# cv = CountVectorizer(binary = True) # implies that it indicates whether the word is present or not.\n",
    "# cv.fit(train['review']) # find all the unique words from the training set\n",
    "# train_x = cv.transform(train_x)\n",
    "# test_x = cv.transform(test_x)"
   ]
  },
  {
   "cell_type": "code",
   "execution_count": null,
   "id": "c6003152",
   "metadata": {},
   "outputs": [],
   "source": []
  },
  {
   "cell_type": "code",
   "execution_count": null,
   "id": "57a80a4e",
   "metadata": {},
   "outputs": [],
   "source": []
  },
  {
   "cell_type": "code",
   "execution_count": null,
   "id": "39babc08",
   "metadata": {},
   "outputs": [],
   "source": []
  },
  {
   "cell_type": "code",
   "execution_count": null,
   "id": "3303c7b3",
   "metadata": {},
   "outputs": [],
   "source": []
  },
  {
   "cell_type": "code",
   "execution_count": null,
   "id": "de8e7fa5",
   "metadata": {},
   "outputs": [],
   "source": []
  }
 ],
 "metadata": {
  "kernelspec": {
   "display_name": "Python 3 (ipykernel)",
   "language": "python",
   "name": "python3"
  },
  "language_info": {
   "codemirror_mode": {
    "name": "ipython",
    "version": 3
   },
   "file_extension": ".py",
   "mimetype": "text/x-python",
   "name": "python",
   "nbconvert_exporter": "python",
   "pygments_lexer": "ipython3",
   "version": "3.9.7"
  }
 },
 "nbformat": 4,
 "nbformat_minor": 5
}
