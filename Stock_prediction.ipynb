{
 "cells": [
  {
   "cell_type": "code",
   "execution_count": 16,
   "id": "3ef820ce",
   "metadata": {},
   "outputs": [],
   "source": [
    "import re\n",
    "import pandas as pd\n",
    "import tweepy\n",
    "import matplotlib.pyplot as plt\n",
    "from textblob import TextBlob\n",
    "from wordcloud import WordCloud\n",
    "import seaborn as sns\n",
    "from twitter import *\n",
    "import datetime as dt"
   ]
  },
  {
   "cell_type": "code",
   "execution_count": 17,
   "id": "03b38bac",
   "metadata": {},
   "outputs": [],
   "source": [
    "Api_key=\"FgHVpYCiHuSHUco1zW0fce7M5\"\n",
    "Api_key_secret=\"nsZG7UlYZ1nSiR9tnbjwX8PV7F2RhMgMi95SCdtJWJAeGICYI9\"\n",
    "Access_token=\"1577292145253404678-bRVuwjeAIsNuCRLqECTGXwcoGp8cHT\"\n",
    "Access_token_secret=\"gaMToLWk1sFggkZMf3MeebusrPFwCKc00Y296KxGAF6EN\""
   ]
  },
  {
   "cell_type": "code",
   "execution_count": 18,
   "id": "b3e399c6",
   "metadata": {},
   "outputs": [],
   "source": [
    "authenticate=tweepy.OAuthHandler(Api_key,Api_key_secret)\n",
    "authenticate.set_access_token(Access_token,Access_token_secret)\n",
    "api=tweepy.API(authenticate,wait_on_rate_limit=True,)\n",
    "# api = tweepy.API(auth, wait_on_rate_limit=True,\n",
    "#     wait_on_rate_limit_notify=True)"
   ]
  },
  {
   "cell_type": "code",
   "execution_count": 19,
   "id": "0b63899b",
   "metadata": {},
   "outputs": [],
   "source": [
    "#\"Elon Musk\",\"AAPL\",\"MSFT\",\"GOOGL\",\"google\",\"GOOGLE\",\"amazon\",\"AMZN\",\"AMZON\""
   ]
  },
  {
   "cell_type": "code",
   "execution_count": 20,
   "id": "f2323c01",
   "metadata": {},
   "outputs": [],
   "source": [
    "tweets=tweepy.Cursor(api.search_tweets, q=[\"TSLA\",\"TESLA\",\"tesla\"],count=100,lang =\"en\",since_id=dt.datetime(2022,10,10),tweet_mode=\"extended\").items(200)\n",
    "# tweets2=tweepy.Cursor(api.search_tweets, q=[\"TSLA\",\"TESLA\",\"tesla\"],count=100,lang =\"en\",since_id=\"2022-10-04\",until=\"2022:10:07\",tweet_mode=\"extended\").items(500)\n",
    "# for i in tweets1:\n",
    "#     print(i)\n",
    "#tweets3=tweepy.Cursor(api.search_tweets, q=[\"TSLA\"],count=50,lang =\"en\",since_id=\"2022-10-9\",until=\"2022-10-11\",tweet_mode=\"extended\").items(500"
   ]
  },
  {
   "cell_type": "code",
   "execution_count": 21,
   "id": "f01feb30",
   "metadata": {},
   "outputs": [],
   "source": [
    "df=pd.DataFrame([[tweet.created_at.date(),tweet.full_text] for tweet in tweets],columns=['Date','Tweets'])"
   ]
  },
  {
   "cell_type": "code",
   "execution_count": 22,
   "id": "3ef7c608",
   "metadata": {},
   "outputs": [
    {
     "data": {
      "text/html": [
       "<div>\n",
       "<style scoped>\n",
       "    .dataframe tbody tr th:only-of-type {\n",
       "        vertical-align: middle;\n",
       "    }\n",
       "\n",
       "    .dataframe tbody tr th {\n",
       "        vertical-align: top;\n",
       "    }\n",
       "\n",
       "    .dataframe thead th {\n",
       "        text-align: right;\n",
       "    }\n",
       "</style>\n",
       "<table border=\"1\" class=\"dataframe\">\n",
       "  <thead>\n",
       "    <tr style=\"text-align: right;\">\n",
       "      <th></th>\n",
       "      <th>Date</th>\n",
       "      <th>Tweets</th>\n",
       "    </tr>\n",
       "  </thead>\n",
       "  <tbody>\n",
       "    <tr>\n",
       "      <th>0</th>\n",
       "      <td>2022-10-12</td>\n",
       "      <td>RT @GerberKawasaki: Tesla puts up big sales nu...</td>\n",
       "    </tr>\n",
       "    <tr>\n",
       "      <th>1</th>\n",
       "      <td>2022-10-12</td>\n",
       "      <td>RT @CheddarFlow: Story Time.\\n\\nOn Sep 21st, a...</td>\n",
       "    </tr>\n",
       "    <tr>\n",
       "      <th>2</th>\n",
       "      <td>2022-10-12</td>\n",
       "      <td>RT @CheddarFlow: Story Time.\\n\\nOn Sep 21st, a...</td>\n",
       "    </tr>\n",
       "    <tr>\n",
       "      <th>3</th>\n",
       "      <td>2022-10-12</td>\n",
       "      <td>@elonmusk 30 days ago $TSLA stood at $303. Now...</td>\n",
       "    </tr>\n",
       "    <tr>\n",
       "      <th>4</th>\n",
       "      <td>2022-10-12</td>\n",
       "      <td>RT @CheddarFlow: Story Time.\\n\\nOn Sep 21st, a...</td>\n",
       "    </tr>\n",
       "  </tbody>\n",
       "</table>\n",
       "</div>"
      ],
      "text/plain": [
       "         Date                                             Tweets\n",
       "0  2022-10-12  RT @GerberKawasaki: Tesla puts up big sales nu...\n",
       "1  2022-10-12  RT @CheddarFlow: Story Time.\\n\\nOn Sep 21st, a...\n",
       "2  2022-10-12  RT @CheddarFlow: Story Time.\\n\\nOn Sep 21st, a...\n",
       "3  2022-10-12  @elonmusk 30 days ago $TSLA stood at $303. Now...\n",
       "4  2022-10-12  RT @CheddarFlow: Story Time.\\n\\nOn Sep 21st, a..."
      ]
     },
     "execution_count": 22,
     "metadata": {},
     "output_type": "execute_result"
    }
   ],
   "source": [
    "df.head()"
   ]
  },
  {
   "cell_type": "code",
   "execution_count": 23,
   "id": "12326b6f",
   "metadata": {},
   "outputs": [],
   "source": [
    "#clean\n",
    "def cleanText(text):\n",
    "    text=re.sub(r'#','',text)\n",
    "    text=re.sub(r'_','',text)\n",
    "    text=re.sub(r':','',text)\n",
    "    text=re.sub(r'_','',text)\n",
    "    text=re.sub(r'\\n','',text)\n",
    "    text=re.sub(r'RT[\\s]+','',text)\n",
    "    text=re.sub(r'https?:\\/\\/\\S+','',text)\n",
    "    text=re.sub(r'https?:\\/\\/\\S+','',text)\n",
    "    text=re.sub(r'@[A-Za-z0-9]+','',text)\n",
    "    return text\n"
   ]
  },
  {
   "cell_type": "code",
   "execution_count": 24,
   "id": "47853b6c",
   "metadata": {},
   "outputs": [],
   "source": [
    "df['Tweets']=df['Tweets'].apply(cleanText)"
   ]
  },
  {
   "cell_type": "code",
   "execution_count": 25,
   "id": "bec8c365",
   "metadata": {},
   "outputs": [
    {
     "data": {
      "text/html": [
       "<div>\n",
       "<style scoped>\n",
       "    .dataframe tbody tr th:only-of-type {\n",
       "        vertical-align: middle;\n",
       "    }\n",
       "\n",
       "    .dataframe tbody tr th {\n",
       "        vertical-align: top;\n",
       "    }\n",
       "\n",
       "    .dataframe thead th {\n",
       "        text-align: right;\n",
       "    }\n",
       "</style>\n",
       "<table border=\"1\" class=\"dataframe\">\n",
       "  <thead>\n",
       "    <tr style=\"text-align: right;\">\n",
       "      <th></th>\n",
       "      <th>Date</th>\n",
       "      <th>Tweets</th>\n",
       "    </tr>\n",
       "  </thead>\n",
       "  <tbody>\n",
       "    <tr>\n",
       "      <th>0</th>\n",
       "      <td>2022-10-12</td>\n",
       "      <td>Tesla puts up big sales numbers in China for ...</td>\n",
       "    </tr>\n",
       "    <tr>\n",
       "      <th>1</th>\n",
       "      <td>2022-10-12</td>\n",
       "      <td>Story Time.On Sep 21st, a whale bought $9.1M ...</td>\n",
       "    </tr>\n",
       "    <tr>\n",
       "      <th>2</th>\n",
       "      <td>2022-10-12</td>\n",
       "      <td>Story Time.On Sep 21st, a whale bought $9.1M ...</td>\n",
       "    </tr>\n",
       "    <tr>\n",
       "      <th>3</th>\n",
       "      <td>2022-10-12</td>\n",
       "      <td>30 days ago $TSLA stood at $303. Now, its 30%...</td>\n",
       "    </tr>\n",
       "    <tr>\n",
       "      <th>4</th>\n",
       "      <td>2022-10-12</td>\n",
       "      <td>Story Time.On Sep 21st, a whale bought $9.1M ...</td>\n",
       "    </tr>\n",
       "  </tbody>\n",
       "</table>\n",
       "</div>"
      ],
      "text/plain": [
       "         Date                                             Tweets\n",
       "0  2022-10-12   Tesla puts up big sales numbers in China for ...\n",
       "1  2022-10-12   Story Time.On Sep 21st, a whale bought $9.1M ...\n",
       "2  2022-10-12   Story Time.On Sep 21st, a whale bought $9.1M ...\n",
       "3  2022-10-12   30 days ago $TSLA stood at $303. Now, its 30%...\n",
       "4  2022-10-12   Story Time.On Sep 21st, a whale bought $9.1M ..."
      ]
     },
     "execution_count": 25,
     "metadata": {},
     "output_type": "execute_result"
    }
   ],
   "source": [
    "df.head()"
   ]
  },
  {
   "cell_type": "code",
   "execution_count": 26,
   "id": "7065b852",
   "metadata": {},
   "outputs": [
    {
     "data": {
      "text/plain": [
       "0       Tesla puts up big sales numbers in China for ...\n",
       "1       Story Time.On Sep 21st, a whale bought $9.1M ...\n",
       "2       Story Time.On Sep 21st, a whale bought $9.1M ...\n",
       "3       30 days ago $TSLA stood at $303. Now, its 30%...\n",
       "4       Story Time.On Sep 21st, a whale bought $9.1M ...\n",
       "                             ...                        \n",
       "195    A Tesla Semi electric truck was spotted seemin...\n",
       "196     Tesla Catches Fire In Stamford Parking Lot FD...\n",
       "197    Elon Musk went from speaking out against Joe B...\n",
       "198     Tesla puts up big sales numbers in China for ...\n",
       "199     Wife and Grandpa rode along with me testing t...\n",
       "Name: Tweets, Length: 200, dtype: object"
      ]
     },
     "execution_count": 26,
     "metadata": {},
     "output_type": "execute_result"
    }
   ],
   "source": [
    "df.Tweets"
   ]
  },
  {
   "cell_type": "code",
   "execution_count": 27,
   "id": "4f5b3a6f",
   "metadata": {},
   "outputs": [
    {
     "data": {
      "text/plain": [
       "dtype('int64')"
      ]
     },
     "execution_count": 27,
     "metadata": {},
     "output_type": "execute_result"
    }
   ],
   "source": [
    "df.index.dtype"
   ]
  },
  {
   "cell_type": "code",
   "execution_count": 29,
   "id": "55cb9d37",
   "metadata": {},
   "outputs": [
    {
     "data": {
      "text/html": [
       "<div>\n",
       "<style scoped>\n",
       "    .dataframe tbody tr th:only-of-type {\n",
       "        vertical-align: middle;\n",
       "    }\n",
       "\n",
       "    .dataframe tbody tr th {\n",
       "        vertical-align: top;\n",
       "    }\n",
       "\n",
       "    .dataframe thead th {\n",
       "        text-align: right;\n",
       "    }\n",
       "</style>\n",
       "<table border=\"1\" class=\"dataframe\">\n",
       "  <thead>\n",
       "    <tr style=\"text-align: right;\">\n",
       "      <th></th>\n",
       "      <th>Date</th>\n",
       "      <th>Tweets</th>\n",
       "      <th>Polarity</th>\n",
       "      <th>Subjectivity</th>\n",
       "      <th>Analysis</th>\n",
       "    </tr>\n",
       "  </thead>\n",
       "  <tbody>\n",
       "    <tr>\n",
       "      <th>0</th>\n",
       "      <td>2022-10-12</td>\n",
       "      <td>Tesla puts up big sales numbers in China for ...</td>\n",
       "      <td>0.000000</td>\n",
       "      <td>0.100000</td>\n",
       "      <td>Neutral</td>\n",
       "    </tr>\n",
       "    <tr>\n",
       "      <th>1</th>\n",
       "      <td>2022-10-12</td>\n",
       "      <td>Story Time.On Sep 21st, a whale bought $9.1M ...</td>\n",
       "      <td>0.208667</td>\n",
       "      <td>0.311333</td>\n",
       "      <td>Positive</td>\n",
       "    </tr>\n",
       "    <tr>\n",
       "      <th>2</th>\n",
       "      <td>2022-10-12</td>\n",
       "      <td>Story Time.On Sep 21st, a whale bought $9.1M ...</td>\n",
       "      <td>0.208667</td>\n",
       "      <td>0.311333</td>\n",
       "      <td>Positive</td>\n",
       "    </tr>\n",
       "    <tr>\n",
       "      <th>3</th>\n",
       "      <td>2022-10-12</td>\n",
       "      <td>30 days ago $TSLA stood at $303. Now, its 30%...</td>\n",
       "      <td>-0.166667</td>\n",
       "      <td>0.066667</td>\n",
       "      <td>Negative</td>\n",
       "    </tr>\n",
       "    <tr>\n",
       "      <th>4</th>\n",
       "      <td>2022-10-12</td>\n",
       "      <td>Story Time.On Sep 21st, a whale bought $9.1M ...</td>\n",
       "      <td>0.208667</td>\n",
       "      <td>0.311333</td>\n",
       "      <td>Positive</td>\n",
       "    </tr>\n",
       "  </tbody>\n",
       "</table>\n",
       "</div>"
      ],
      "text/plain": [
       "         Date                                             Tweets  Polarity  \\\n",
       "0  2022-10-12   Tesla puts up big sales numbers in China for ...  0.000000   \n",
       "1  2022-10-12   Story Time.On Sep 21st, a whale bought $9.1M ...  0.208667   \n",
       "2  2022-10-12   Story Time.On Sep 21st, a whale bought $9.1M ...  0.208667   \n",
       "3  2022-10-12   30 days ago $TSLA stood at $303. Now, its 30%... -0.166667   \n",
       "4  2022-10-12   Story Time.On Sep 21st, a whale bought $9.1M ...  0.208667   \n",
       "\n",
       "   Subjectivity  Analysis  \n",
       "0      0.100000   Neutral  \n",
       "1      0.311333  Positive  \n",
       "2      0.311333  Positive  \n",
       "3      0.066667  Negative  \n",
       "4      0.311333  Positive  "
      ]
     },
     "execution_count": 29,
     "metadata": {},
     "output_type": "execute_result"
    }
   ],
   "source": [
    "df.head()"
   ]
  },
  {
   "cell_type": "markdown",
   "id": "ad252af3",
   "metadata": {},
   "source": [
    "TEXTBLOB"
   ]
  },
  {
   "cell_type": "code",
   "execution_count": 30,
   "id": "b942a72b",
   "metadata": {},
   "outputs": [
    {
     "name": "stdout",
     "output_type": "stream",
     "text": [
      "<class 'pandas.core.frame.DataFrame'>\n",
      "RangeIndex: 200 entries, 0 to 199\n",
      "Data columns (total 5 columns):\n",
      " #   Column        Non-Null Count  Dtype  \n",
      "---  ------        --------------  -----  \n",
      " 0   Date          200 non-null    object \n",
      " 1   Tweets        200 non-null    object \n",
      " 2   Polarity      200 non-null    float64\n",
      " 3   Subjectivity  200 non-null    float64\n",
      " 4   Analysis      200 non-null    object \n",
      "dtypes: float64(2), object(3)\n",
      "memory usage: 7.9+ KB\n"
     ]
    }
   ],
   "source": [
    "df.info()"
   ]
  },
  {
   "cell_type": "code",
   "execution_count": 28,
   "id": "c7923de2",
   "metadata": {},
   "outputs": [
    {
     "data": {
      "text/html": [
       "<div>\n",
       "<style scoped>\n",
       "    .dataframe tbody tr th:only-of-type {\n",
       "        vertical-align: middle;\n",
       "    }\n",
       "\n",
       "    .dataframe tbody tr th {\n",
       "        vertical-align: top;\n",
       "    }\n",
       "\n",
       "    .dataframe thead th {\n",
       "        text-align: right;\n",
       "    }\n",
       "</style>\n",
       "<table border=\"1\" class=\"dataframe\">\n",
       "  <thead>\n",
       "    <tr style=\"text-align: right;\">\n",
       "      <th></th>\n",
       "      <th>Date</th>\n",
       "      <th>Tweets</th>\n",
       "      <th>Polarity</th>\n",
       "      <th>Subjectivity</th>\n",
       "      <th>Analysis</th>\n",
       "    </tr>\n",
       "  </thead>\n",
       "  <tbody>\n",
       "    <tr>\n",
       "      <th>0</th>\n",
       "      <td>2022-10-12</td>\n",
       "      <td>Tesla puts up big sales numbers in China for ...</td>\n",
       "      <td>0.000000</td>\n",
       "      <td>0.100000</td>\n",
       "      <td>Neutral</td>\n",
       "    </tr>\n",
       "    <tr>\n",
       "      <th>1</th>\n",
       "      <td>2022-10-12</td>\n",
       "      <td>Story Time.On Sep 21st, a whale bought $9.1M ...</td>\n",
       "      <td>0.208667</td>\n",
       "      <td>0.311333</td>\n",
       "      <td>Positive</td>\n",
       "    </tr>\n",
       "    <tr>\n",
       "      <th>2</th>\n",
       "      <td>2022-10-12</td>\n",
       "      <td>Story Time.On Sep 21st, a whale bought $9.1M ...</td>\n",
       "      <td>0.208667</td>\n",
       "      <td>0.311333</td>\n",
       "      <td>Positive</td>\n",
       "    </tr>\n",
       "    <tr>\n",
       "      <th>3</th>\n",
       "      <td>2022-10-12</td>\n",
       "      <td>30 days ago $TSLA stood at $303. Now, its 30%...</td>\n",
       "      <td>-0.166667</td>\n",
       "      <td>0.066667</td>\n",
       "      <td>Negative</td>\n",
       "    </tr>\n",
       "    <tr>\n",
       "      <th>4</th>\n",
       "      <td>2022-10-12</td>\n",
       "      <td>Story Time.On Sep 21st, a whale bought $9.1M ...</td>\n",
       "      <td>0.208667</td>\n",
       "      <td>0.311333</td>\n",
       "      <td>Positive</td>\n",
       "    </tr>\n",
       "  </tbody>\n",
       "</table>\n",
       "</div>"
      ],
      "text/plain": [
       "         Date                                             Tweets  Polarity  \\\n",
       "0  2022-10-12   Tesla puts up big sales numbers in China for ...  0.000000   \n",
       "1  2022-10-12   Story Time.On Sep 21st, a whale bought $9.1M ...  0.208667   \n",
       "2  2022-10-12   Story Time.On Sep 21st, a whale bought $9.1M ...  0.208667   \n",
       "3  2022-10-12   30 days ago $TSLA stood at $303. Now, its 30%... -0.166667   \n",
       "4  2022-10-12   Story Time.On Sep 21st, a whale bought $9.1M ...  0.208667   \n",
       "\n",
       "   Subjectivity  Analysis  \n",
       "0      0.100000   Neutral  \n",
       "1      0.311333  Positive  \n",
       "2      0.311333  Positive  \n",
       "3      0.066667  Negative  \n",
       "4      0.311333  Positive  "
      ]
     },
     "execution_count": 28,
     "metadata": {},
     "output_type": "execute_result"
    }
   ],
   "source": [
    "polarity = lambda x: TextBlob(x).sentiment.polarity\n",
    "subjecticity = lambda x: TextBlob(x).sentiment.subjectivity\n",
    "def analysis(score):\n",
    "            if score < 0:\n",
    "                return 'Negative'\n",
    "            elif score == 0:\n",
    "                return 'Neutral'\n",
    "            else:\n",
    "                return 'Positive'\n",
    "df['Polarity'] = df['Tweets'].apply(polarity)\n",
    "df['Subjectivity'] = df['Tweets'].apply(subjecticity)\n",
    "df['Analysis'] = df['Polarity'].apply(analysis)\n",
    "df.head()"
   ]
  },
  {
   "cell_type": "code",
   "execution_count": null,
   "id": "3e2e7505",
   "metadata": {},
   "outputs": [],
   "source": [
    "allwords=''.join([twts for twts in df['Tweets']])\n",
    "wordCloud=WordCloud(width=500,height=300,random_state=21,max_font_size=100).generate(allwords)\n",
    "plt.imshow(wordCloud,interpolation=\"bilinear\")\n",
    "plt.axis('off')\n",
    "plt.show()"
   ]
  },
  {
   "cell_type": "code",
   "execution_count": null,
   "id": "5b6f7a58",
   "metadata": {},
   "outputs": [],
   "source": []
  },
  {
   "cell_type": "code",
   "execution_count": null,
   "id": "c0066abf",
   "metadata": {},
   "outputs": [],
   "source": [
    "plt.figure(figsize=(10,6))\n",
    "for i in range(0,df.shape[0]):\n",
    "    plt.scatter(df[\"Polarity\"][i],df[\"Subjectivity\"][i],color='red')\n",
    "plt.title(\"Sentiment Analysis\")\n",
    "plt.xlabel(\"Polarity\")\n",
    "plt.ylabel(\"Subjectivity\")"
   ]
  },
  {
   "cell_type": "code",
   "execution_count": null,
   "id": "e1e97ca1",
   "metadata": {},
   "outputs": [],
   "source": [
    "df.shape"
   ]
  },
  {
   "cell_type": "code",
   "execution_count": null,
   "id": "d6218b0e",
   "metadata": {},
   "outputs": [],
   "source": [
    "ptweets=df[df.Analysis=='Positive']\n",
    "ptweets=ptweets['Tweets']\n",
    "round((ptweets.shape[0]/df.shape[0])*100,1)"
   ]
  },
  {
   "cell_type": "code",
   "execution_count": null,
   "id": "cd214eff",
   "metadata": {},
   "outputs": [],
   "source": [
    "ntweets=df[df.Analysis=='Negative']\n",
    "ntweets=ntweets['Tweets']\n",
    "round((ntweets.shape[0]/df.shape[0])*100,1)"
   ]
  },
  {
   "cell_type": "code",
   "execution_count": null,
   "id": "91e49bd7",
   "metadata": {},
   "outputs": [],
   "source": [
    "nutweets=df[df.Analysis=='Neutral']\n",
    "nutweets=nutweets['Tweets']\n",
    "round((nutweets.shape[0]/df.shape[0])*100,1)"
   ]
  },
  {
   "cell_type": "code",
   "execution_count": null,
   "id": "77a5ee55",
   "metadata": {},
   "outputs": [],
   "source": [
    "\n",
    "plt.title(\"Sentiment Analysis\")\n",
    "plt.xlabel(\"Sentiment\")\n",
    "plt.ylabel(\"Counts\")\n",
    "df['Analysis'].value_counts().plot(kind='bar')\n",
    "plt.show()"
   ]
  },
  {
   "cell_type": "markdown",
   "id": "f8ea045c",
   "metadata": {},
   "source": [
    "VADER"
   ]
  },
  {
   "cell_type": "code",
   "execution_count": null,
   "id": "b03c182c",
   "metadata": {},
   "outputs": [],
   "source": [
    "from vaderSentiment.vaderSentiment import SentimentIntensityAnalyzer"
   ]
  },
  {
   "cell_type": "code",
   "execution_count": null,
   "id": "2ea646f4",
   "metadata": {},
   "outputs": [],
   "source": [
    "df"
   ]
  },
  {
   "cell_type": "code",
   "execution_count": null,
   "id": "ba8bf7d8",
   "metadata": {},
   "outputs": [],
   "source": [
    "# analyzer = SentimentIntensityAnalyzer()\n",
    "# df['compound'] = [analyzer.polarity_scores(x)['compound'] for x in df['Tweets']]\n",
    "# df['neg'] = [analyzer.polarity_scores(x)['neg'] for x in df['Tweets']]\n",
    "# df['neu'] = [analyzer.polarity_scores(x)['neu'] for x in df['Tweets']]\n",
    "# df['pos'] = [analyzer.polarity_scores(x)['pos'] for x in df['Tweets']]"
   ]
  },
  {
   "cell_type": "code",
   "execution_count": null,
   "id": "f5fb7711",
   "metadata": {},
   "outputs": [],
   "source": [
    "from nltk.sentiment.vader import SentimentIntensityAnalyzer\n",
    "sent_i = SentimentIntensityAnalyzer()\n",
    "\n",
    "def vadar_sentiment(text):\n",
    "    \"\"\" Calculate and return the nltk vadar (lexicon method) sentiment \"\"\"\n",
    "    return sent_i.polarity_scores(text)['compound']\n",
    "\n",
    "# create new column for vadar compound sentiment score\n",
    "df['Vader compound'] = df['Tweets'].apply(vadar_sentiment)\n",
    "\n",
    "def categorise_sentiment(sentiment, neg_threshold=-0.05, pos_threshold=0.05):\n",
    "    \"\"\" categorise the sentiment value as positive (1), negative (-1) \n",
    "        or neutral (0) based on given thresholds \"\"\"\n",
    "    if sentiment < neg_threshold:\n",
    "        label = 'negative'\n",
    "    elif sentiment > pos_threshold:\n",
    "        label = 'positive'\n",
    "    else:\n",
    "        label = 'neutral'\n",
    "    return label\n",
    "\n",
    "# new col with vadar sentiment label based on vadar compound score\n",
    "df['Vader sentiments']=  df['Vader compound'].apply(categorise_sentiment)\n",
    "\n",
    "# plot distribution of article sentiments for each newspaper\n"
   ]
  },
  {
   "cell_type": "code",
   "execution_count": null,
   "id": "979e3d19",
   "metadata": {},
   "outputs": [],
   "source": [
    "df"
   ]
  },
  {
   "cell_type": "code",
   "execution_count": null,
   "id": "3863cd33",
   "metadata": {},
   "outputs": [],
   "source": [
    "\n",
    "plt.title(\"Sentiment Analysis\")\n",
    "plt.xlabel(\"Sentiment\")\n",
    "plt.ylabel(\"Counts\")\n",
    "df['Vader sentiments'].value_counts().plot(kind='bar')\n",
    "plt.show()"
   ]
  },
  {
   "cell_type": "markdown",
   "id": "5ba23373",
   "metadata": {},
   "source": [
    "# Yfinance "
   ]
  },
  {
   "cell_type": "code",
   "execution_count": null,
   "id": "f567908f",
   "metadata": {},
   "outputs": [],
   "source": []
  },
  {
   "cell_type": "code",
   "execution_count": null,
   "id": "e39c04d5",
   "metadata": {},
   "outputs": [],
   "source": [
    "import datetime as dt\n",
    "from pandas_datareader import data as pdr"
   ]
  },
  {
   "cell_type": "code",
   "execution_count": null,
   "id": "1a5beaa0",
   "metadata": {},
   "outputs": [],
   "source": [
    "end=dt.datetime.now()\n",
    "start=dt.datetime(2022,10,1)\n",
    "start,end"
   ]
  },
  {
   "cell_type": "code",
   "execution_count": null,
   "id": "ba2331cd",
   "metadata": {},
   "outputs": [],
   "source": [
    "stocks=['TSLA','MSFT','COKE','AMZN']"
   ]
  },
  {
   "cell_type": "code",
   "execution_count": null,
   "id": "0b9b8dbf",
   "metadata": {},
   "outputs": [],
   "source": [
    "df=pdr.get_data_yahoo(stocks,start,end)\n",
    "df.head()"
   ]
  },
  {
   "cell_type": "code",
   "execution_count": null,
   "id": "d84ce354",
   "metadata": {},
   "outputs": [],
   "source": [
    "df.shape"
   ]
  },
  {
   "cell_type": "code",
   "execution_count": null,
   "id": "1193c260",
   "metadata": {},
   "outputs": [],
   "source": [
    "close=df.Close\n",
    "close.head()"
   ]
  },
  {
   "cell_type": "code",
   "execution_count": null,
   "id": "5b5a724c",
   "metadata": {},
   "outputs": [],
   "source": [
    "close.describe()"
   ]
  },
  {
   "cell_type": "code",
   "execution_count": null,
   "id": "2780ec9d",
   "metadata": {},
   "outputs": [],
   "source": [
    "close[close.index > end - dt.timedelta(days=100)].describe() # last 100 days"
   ]
  },
  {
   "cell_type": "code",
   "execution_count": null,
   "id": "50153c55",
   "metadata": {},
   "outputs": [],
   "source": [
    "close.plot()"
   ]
  },
  {
   "cell_type": "code",
   "execution_count": null,
   "id": "9a3907ab",
   "metadata": {},
   "outputs": [],
   "source": []
  },
  {
   "cell_type": "code",
   "execution_count": null,
   "id": "2796922e",
   "metadata": {},
   "outputs": [],
   "source": []
  },
  {
   "cell_type": "code",
   "execution_count": null,
   "id": "2964a83f",
   "metadata": {},
   "outputs": [],
   "source": []
  },
  {
   "cell_type": "code",
   "execution_count": null,
   "id": "29aec408",
   "metadata": {},
   "outputs": [],
   "source": []
  },
  {
   "cell_type": "code",
   "execution_count": null,
   "id": "68498108",
   "metadata": {},
   "outputs": [],
   "source": []
  }
 ],
 "metadata": {
  "kernelspec": {
   "display_name": "Python 3 (ipykernel)",
   "language": "python",
   "name": "python3"
  },
  "language_info": {
   "codemirror_mode": {
    "name": "ipython",
    "version": 3
   },
   "file_extension": ".py",
   "mimetype": "text/x-python",
   "name": "python",
   "nbconvert_exporter": "python",
   "pygments_lexer": "ipython3",
   "version": "3.9.7"
  }
 },
 "nbformat": 4,
 "nbformat_minor": 5
}
